{
 "cells": [
  {
   "cell_type": "code",
   "execution_count": 1,
   "metadata": {
    "collapsed": false
   },
   "outputs": [
    {
     "name": "stderr",
     "output_type": "stream",
     "text": [
      "Using TensorFlow backend.\n"
     ]
    },
    {
     "name": "stdout",
     "output_type": "stream",
     "text": [
      "Dependency loaded!\n"
     ]
    }
   ],
   "source": [
    "import matplotlib.pyplot as plt\n",
    "import matplotlib.image as mpimg\n",
    "import numpy as np\n",
    "import pandas as pd\n",
    "\n",
    "from PIL import Image\n",
    "import glob\n",
    "import cv2\n",
    "import random\n",
    "from pathlib import Path\n",
    "\n",
    "from PIL import Image\n",
    "import keras\n",
    "import math\n",
    "import random\n",
    "from sklearn.model_selection import train_test_split\n",
    "from keras.optimizers import SGD, Adam, RMSprop\n",
    "from scipy.misc.pilutil import imresize\n",
    "\n",
    "import os\n",
    "import argparse\n",
    "import json\n",
    "# For deep learning functions with keras\n",
    "from keras.models import Sequential\n",
    "from keras.layers import Dense, Dropout, Flatten, Lambda, ELU, MaxPooling2D, Activation, Dense\n",
    "from keras.layers.convolutional import Convolution2D\n",
    "from keras.layers.pooling import MaxPooling2D\n",
    "from keras.preprocessing.image import ImageDataGenerator\n",
    "from keras.optimizers import  Adam\n",
    "\n",
    "print (\"Dependency loaded!\")"
   ]
  },
  {
   "cell_type": "markdown",
   "metadata": {},
   "source": [
    "## Define data path"
   ]
  },
  {
   "cell_type": "code",
   "execution_count": 2,
   "metadata": {
    "collapsed": false
   },
   "outputs": [],
   "source": [
    "# Load Udacity's data\n",
    "df = pd.read_csv('data/driving_log.csv', header=0)\n",
    "df.columns = [\"center_image\", \"left_image\", \"right_image\", \"steering_angle\", \"throttle\", \"break\", \"speed\"]\n",
    "\n",
    "# Load continued recovery data\n",
    "df_recovery = pd.read_csv('data/driving_log_recovery.csv', header=0)\n",
    "df_recovery.columns = [\"center_image\", \"left_image\", \"right_image\", \"steering_angle\", \"throttle\", \"break\", \"speed\"]"
   ]
  },
  {
   "cell_type": "code",
   "execution_count": 3,
   "metadata": {
    "collapsed": true
   },
   "outputs": [],
   "source": [
    "df_right = []\n",
    "df_left = []\n",
    "df_center = []\n",
    "# NVIDIA's input parameters\n",
    "INPUT_IMG_HEIGHT = 66\n",
    "INPUT_IMG_WIDTH = 220\n",
    "\n",
    "batch_size = 512"
   ]
  },
  {
   "cell_type": "code",
   "execution_count": 4,
   "metadata": {
    "collapsed": true
   },
   "outputs": [],
   "source": [
    "# Define the rule of processing data\n",
    "sample_angles = []\n",
    "def process_data(data_source):\n",
    "    for i in range(len(data_source)):\n",
    "        center_img = data_source[\"center_image\"][i]\n",
    "        left_img = data_source[\"left_image\"][i]\n",
    "        right_img = data_source[\"right_image\"][i]\n",
    "        angle = data_source[\"steering_angle\"][i]\n",
    "        sample_angles.append(angle)\n",
    "        # Declearing data collection rule\n",
    "        if (angle > 0.15):\n",
    "            df_right.append([center_img, left_img, right_img, angle])\n",
    "\n",
    "        if (angle < -0.15):\n",
    "            df_left.append([center_img, left_img, right_img, angle])\n",
    "\n",
    "        if (angle != 0):\n",
    "            df_center.append([center_img, left_img, right_img, angle])\n",
    " "
   ]
  },
  {
   "cell_type": "code",
   "execution_count": 5,
   "metadata": {
    "collapsed": false
   },
   "outputs": [
    {
     "name": "stdout",
     "output_type": "stream",
     "text": [
      "Data processed\n"
     ]
    }
   ],
   "source": [
    "# Process recovery's data\n",
    "process_data(df)\n",
    "\n",
    "# Process recovery's data\n",
    "process_data(df_recovery)\n",
    "\n",
    "print (\"Data processed\")"
   ]
  },
  {
   "cell_type": "code",
   "execution_count": 6,
   "metadata": {
    "collapsed": false
   },
   "outputs": [
    {
     "data": {
      "image/png": "[encoded data removed]",
      "text/plain": [
       "<matplotlib.figure.Figure at 0x106be8f98>"
      ]
     },
     "metadata": {},
     "output_type": "display_data"
    }
   ],
   "source": [
    "np_sample_angles = np.asarray(sample_angles)\n",
    "a = plt.hist(np_sample_angles)\n",
    "plt.xlabel('Steering Angle')\n",
    "plt.ylabel('Samples')\n",
    "plt.title('The distribution of steering angles')\n",
    "plt.show()\n"
   ]
  },
  {
   "cell_type": "code",
   "execution_count": 7,
   "metadata": {
    "collapsed": false
   },
   "outputs": [
    {
     "name": "stdout",
     "output_type": "stream",
     "text": [
      "Data shuffled\n"
     ]
    }
   ],
   "source": [
    "# Shuffle data\n",
    "random.shuffle(df_center)\n",
    "random.shuffle(df_left)\n",
    "random.shuffle(df_right)\n",
    "\n",
    "print (\"Data shuffled\")"
   ]
  },
  {
   "cell_type": "code",
   "execution_count": 8,
   "metadata": {
    "collapsed": false
   },
   "outputs": [],
   "source": [
    "df_center = pd.DataFrame(df_center, columns=[\"center_image\", \"left_image\", \"right_image\", \"steering_angle\"])\n",
    "df_left = pd.DataFrame(df_left, columns=[\"center_image\", \"left_image\", \"right_image\", \"steering_angle\"])\n",
    "df_right = pd.DataFrame(df_right, columns=[\"center_image\", \"left_image\", \"right_image\", \"steering_angle\"])\n",
    "\n",
    "# Put the Left, Right & Center together\n",
    "data_list = [df_center, df_left, df_right]\n",
    "data_list_df = pd.concat(data_list, ignore_index=True)"
   ]
  },
  {
   "cell_type": "code",
   "execution_count": 9,
   "metadata": {
    "collapsed": false
   },
   "outputs": [
    {
     "name": "stdout",
     "output_type": "stream",
     "text": [
      "Center Sample:  1540\n",
      "Left Sample:  695\n",
      "Right Sample:  442\n"
     ]
    }
   ],
   "source": [
    "print(\"Center Sample: \",len(data_list[0]))\n",
    "print(\"Left Sample: \",len(data_list[1]))\n",
    "print(\"Right Sample: \",len(data_list[2]))"
   ]
  },
  {
   "cell_type": "markdown",
   "metadata": {},
   "source": [
    "## Create X_train_data, X_valid_data, y_train_data, y_valid_data\n",
    "## Split into Training and Validation Data"
   ]
  },
  {
   "cell_type": "code",
   "execution_count": 10,
   "metadata": {
    "collapsed": true
   },
   "outputs": [],
   "source": [
    "X_data = data_list_df[[\"center_image\",\"left_image\",\"right_image\",\"steering_angle\"]]\n",
    "y_data = data_list_df[\"steering_angle\"]\n",
    "\n",
    "X_data = pd.DataFrame(X_data, columns=[\"center_image\", \"left_image\", \"right_image\", \"steering_angle\"])\n",
    "y_data = pd.DataFrame(y_data, columns=[\"steering_angle\"])\n",
    "\n",
    "X_train_data, X_valid_data, y_train_data, y_valid_data = train_test_split(X_data, y_data, test_size=0.2)\n",
    "\n",
    "# Reset Index on DataFrame\n",
    "X_train_data = X_train_data.reset_index(drop=True)\n",
    "X_valid_data = X_valid_data.reset_index(drop=True)"
   ]
  },
  {
   "cell_type": "markdown",
   "metadata": {},
   "source": [
    "## Pre-processing\n",
    "### Change brightness"
   ]
  },
  {
   "cell_type": "code",
   "execution_count": 11,
   "metadata": {
    "collapsed": true
   },
   "outputs": [],
   "source": [
    "def change_brightness(image):\n",
    "    # Randomly select a percent change\n",
    "    change_pct = random.uniform(0.4, 1.2)\n",
    "\n",
    "    # Change to HSV to change the brightness V\n",
    "    hsv = cv2.cvtColor(image, cv2.COLOR_RGB2HSV)\n",
    "    hsv[:,:,2] = hsv[:,:,2] * change_pct\n",
    "\n",
    "    #Convert back to RGB\n",
    "    img_bright = cv2.cvtColor(hsv, cv2.COLOR_HSV2RGB)\n",
    "    return img_bright"
   ]
  },
  {
   "cell_type": "markdown",
   "metadata": {},
   "source": [
    "### Flip images"
   ]
  },
  {
   "cell_type": "code",
   "execution_count": 12,
   "metadata": {
    "collapsed": true
   },
   "outputs": [],
   "source": [
    "# Flip Image\n",
    "def flip_image(image, angle):\n",
    "    img_flip = cv2.flip(image,1)\n",
    "    angle = -angle\n",
    "\n",
    "    return img_flip, angle"
   ]
  },
  {
   "cell_type": "code",
   "execution_count": 13,
   "metadata": {
    "collapsed": true
   },
   "outputs": [],
   "source": [
    "def preprocessImage(image):\n",
    "    # Proportionally get lower half portion of the image\n",
    "    nrow, ncol, nchannel = image.shape\n",
    "\n",
    "    start_row = int(nrow * 0.35)\n",
    "    end_row = int(nrow * 0.875)\n",
    "\n",
    "    ## This removes most of the sky and small amount below including the hood\n",
    "    image_no_sky = image[start_row:end_row, :]\n",
    "\n",
    "    # This resizes to 66 x 220 for NVIDIA's model\n",
    "    new_image = cv2.resize(image_no_sky, (220,66), interpolation=cv2.INTER_AREA)\n",
    "\n",
    "    return new_image"
   ]
  },
  {
   "cell_type": "code",
   "execution_count": 14,
   "metadata": {
    "collapsed": true
   },
   "outputs": [],
   "source": [
    "def preprocess_image_train(data_row_df):\n",
    "\n",
    "    path_filename = data_row_df[\"center_image\"][0]\n",
    "    image = cv2.imread(path_filename)\n",
    "    angle = data_row_df['steering_angle'][0]\n",
    "\n",
    "    image = cv2.cvtColor(image,cv2.COLOR_BGR2RGB)\n",
    "    image = change_brightness(image)\n",
    "\n",
    "    # Coin flip to see to flip image and create a new sample of -angle\n",
    "    if np.random.randint(2) == 1:\n",
    "        image, angle = flip_image(image, angle)\n",
    "\n",
    "    # This preprocessImage() needs to be done in drive.py\n",
    "    image = preprocessImage(image)\n",
    "    image = np.array(image)\n",
    "\n",
    "    return image, angle"
   ]
  },
  {
   "cell_type": "code",
   "execution_count": 15,
   "metadata": {
    "collapsed": true
   },
   "outputs": [],
   "source": [
    "def preprocess_image_valid(data_row_df):\n",
    "\n",
    "    path_filename = data_row_df[\"center_image\"][0]\n",
    "    angle = data_row_df['steering_angle'][0]\n",
    "    image = cv2.imread(path_filename)\n",
    "\n",
    "    image = cv2.cvtColor(image,cv2.COLOR_BGR2RGB)\n",
    "\n",
    "    # This preprocessImage() needs to be done in drive.py\n",
    "    image = preprocessImage(image)\n",
    "    image = np.array(image)\n",
    "\n",
    "    return image, angle"
   ]
  },
  {
   "cell_type": "code",
   "execution_count": 16,
   "metadata": {
    "collapsed": true
   },
   "outputs": [],
   "source": [
    "def generate_batch_train_from_dataframe(data_df, batch_size = 128):\n",
    "\n",
    "    batch_images = np.zeros((batch_size, INPUT_IMG_HEIGHT, INPUT_IMG_WIDTH, 3))\n",
    "    batch_angles = np.zeros(batch_size)\n",
    "\n",
    "    while True:\n",
    "        for i in range (batch_size):\n",
    "            # Randomly get a sample from the input data\n",
    "            idx = np.random.randint(len(data_df))\n",
    "\n",
    "            # reset_index sets this data_df starting row to 0\n",
    "            data_row = data_df.iloc[[idx]].reset_index()\n",
    "            img1, angle1 = preprocess_image_train(data_row)\n",
    "\n",
    "            batch_images[i] = img1\n",
    "            batch_angles[i] = angle1\n",
    "\n",
    "        yield batch_images, batch_angles"
   ]
  },
  {
   "cell_type": "code",
   "execution_count": 17,
   "metadata": {
    "collapsed": true
   },
   "outputs": [],
   "source": [
    "def generate_valid_from_dataframe(data_df):\n",
    "    while True:\n",
    "        for idx in range(len(data_df)):\n",
    "            data_row = data_df.iloc[[idx]].reset_index()\n",
    "            img, angle = preprocess_image_valid(data_row)\n",
    "\n",
    "            # Since not stacking the images, it's shape remains (height, width, channel)\n",
    "            # but need it to be (1, height, width, channel)\n",
    "            img = img.reshape(1, img.shape[0], img.shape[1], img.shape[2])\n",
    "            angle = np.array([[angle]])\n",
    "            yield img, angle\n"
   ]
  },
  {
   "cell_type": "code",
   "execution_count": 18,
   "metadata": {
    "collapsed": false
   },
   "outputs": [
    {
     "name": "stdout",
     "output_type": "stream",
     "text": [
      "Generator initiated\n"
     ]
    }
   ],
   "source": [
    "valid_data_generator = generate_valid_from_dataframe(X_valid_data)\n",
    "print(\"Generator initiated\")"
   ]
  },
  {
   "cell_type": "code",
   "execution_count": 19,
   "metadata": {
    "collapsed": false
   },
   "outputs": [
    {
     "name": "stdout",
     "output_type": "stream",
     "text": [
      "Input shape defined\n"
     ]
    }
   ],
   "source": [
    "input_shape = (INPUT_IMG_HEIGHT, INPUT_IMG_WIDTH, 3)\n",
    "print(\"Input shape defined\")"
   ]
  },
  {
   "cell_type": "code",
   "execution_count": 20,
   "metadata": {
    "collapsed": true
   },
   "outputs": [],
   "source": [
    "train_data_generator = generate_batch_train_from_dataframe(X_train_data, batch_size)\n",
    "val_size = len(X_valid_data)"
   ]
  },
  {
   "cell_type": "markdown",
   "metadata": {},
   "source": [
    "## Model from NVIDIA"
   ]
  },
  {
   "cell_type": "code",
   "execution_count": 21,
   "metadata": {
    "collapsed": true
   },
   "outputs": [],
   "source": [
    "def nvidia_net():\n",
    "    model = Sequential()\n",
    "\n",
    "    model.add(Lambda(lambda x: x/127.5 - 1.,input_shape = input_shape))\n",
    "    model.add(Convolution2D(24, 5, 5, subsample=(2, 2), border_mode=\"valid\", init='he_normal', name='conv1'))\n",
    "    model.add(ELU())\n",
    "    model.add(Dropout(0.2))\n",
    "    \n",
    "    model.add(Convolution2D(36, 5, 5, subsample=(2, 2), border_mode=\"valid\", init='he_normal', name='conv2'))\n",
    "    model.add(ELU())\n",
    "    model.add(Dropout(0.2))\n",
    "    \n",
    "    model.add(Convolution2D(48, 5, 5, subsample=(2, 2), border_mode=\"valid\", init='he_normal', name='conv3'))\n",
    "    model.add(ELU())\n",
    "    model.add(Dropout(0.2))\n",
    "    \n",
    "    model.add(Convolution2D(64, 3, 3, subsample=(1, 1), border_mode=\"valid\", init='he_normal', name='conv4'))\n",
    "    model.add(ELU())\n",
    "    model.add(Dropout(0.2))\n",
    "    \n",
    "    model.add(Convolution2D(64, 3, 3, subsample=(1, 1), border_mode=\"valid\", init='he_normal', name='conv5'))\n",
    "    \n",
    "    model.add(Flatten(name='flatten1'))\n",
    "    model.add(ELU())\n",
    "    model.add(Dense(1164, init='he_normal', name='dense1'))\n",
    "    model.add(ELU())\n",
    "    model.add(Dense(100, init='he_normal', name='dense2'))\n",
    "    model.add(ELU())\n",
    "    model.add(Dense(50, init='he_normal', name='dense3'))\n",
    "    model.add(ELU())\n",
    "    model.add(Dense(10, init='he_normal', name='dense4'))\n",
    "    model.add(ELU())\n",
    "    model.add(Dense(1, init='he_normal', name='dense5'))\n",
    "\n",
    "    adam = Adam(lr=0.001, beta_1=0.9, beta_2=0.999, epsilon=1e-08, decay=0.01)\n",
    "    model.compile(optimizer=adam, loss='mse')\n",
    "\n",
    "    return model"
   ]
  },
  {
   "cell_type": "code",
   "execution_count": 22,
   "metadata": {
    "collapsed": false
   },
   "outputs": [
    {
     "name": "stdout",
     "output_type": "stream",
     "text": [
      "____________________________________________________________________________________________________\n",
      "Layer (type)                     Output Shape          Param #     Connected to                     \n",
      "====================================================================================================\n",
      "lambda_1 (Lambda)                (None, 66, 220, 3)    0           lambda_input_1[0][0]             \n",
      "____________________________________________________________________________________________________\n",
      "conv1 (Convolution2D)            (None, 31, 108, 24)   1824        lambda_1[0][0]                   \n",
      "____________________________________________________________________________________________________\n",
      "elu_1 (ELU)                      (None, 31, 108, 24)   0           conv1[0][0]                      \n",
      "____________________________________________________________________________________________________\n",
      "dropout_1 (Dropout)              (None, 31, 108, 24)   0           elu_1[0][0]                      \n",
      "____________________________________________________________________________________________________\n",
      "conv2 (Convolution2D)            (None, 14, 52, 36)    21636       dropout_1[0][0]                  \n",
      "____________________________________________________________________________________________________\n",
      "elu_2 (ELU)                      (None, 14, 52, 36)    0           conv2[0][0]                      \n",
      "____________________________________________________________________________________________________\n",
      "dropout_2 (Dropout)              (None, 14, 52, 36)    0           elu_2[0][0]                      \n",
      "____________________________________________________________________________________________________\n",
      "conv3 (Convolution2D)            (None, 5, 24, 48)     43248       dropout_2[0][0]                  \n",
      "____________________________________________________________________________________________________\n",
      "elu_3 (ELU)                      (None, 5, 24, 48)     0           conv3[0][0]                      \n",
      "____________________________________________________________________________________________________\n",
      "dropout_3 (Dropout)              (None, 5, 24, 48)     0           elu_3[0][0]                      \n",
      "____________________________________________________________________________________________________\n",
      "conv4 (Convolution2D)            (None, 3, 22, 64)     27712       dropout_3[0][0]                  \n",
      "____________________________________________________________________________________________________\n",
      "elu_4 (ELU)                      (None, 3, 22, 64)     0           conv4[0][0]                      \n",
      "____________________________________________________________________________________________________\n",
      "dropout_4 (Dropout)              (None, 3, 22, 64)     0           elu_4[0][0]                      \n",
      "____________________________________________________________________________________________________\n",
      "conv5 (Convolution2D)            (None, 1, 20, 64)     36928       dropout_4[0][0]                  \n",
      "____________________________________________________________________________________________________\n",
      "flatten1 (Flatten)               (None, 1280)          0           conv5[0][0]                      \n",
      "____________________________________________________________________________________________________\n",
      "elu_5 (ELU)                      (None, 1280)          0           flatten1[0][0]                   \n",
      "____________________________________________________________________________________________________\n",
      "dense1 (Dense)                   (None, 1164)          1491084     elu_5[0][0]                      \n",
      "____________________________________________________________________________________________________\n",
      "elu_6 (ELU)                      (None, 1164)          0           dense1[0][0]                     \n",
      "____________________________________________________________________________________________________\n",
      "dense2 (Dense)                   (None, 100)           116500      elu_6[0][0]                      \n",
      "____________________________________________________________________________________________________\n",
      "elu_7 (ELU)                      (None, 100)           0           dense2[0][0]                     \n",
      "____________________________________________________________________________________________________\n",
      "dense3 (Dense)                   (None, 50)            5050        elu_7[0][0]                      \n",
      "____________________________________________________________________________________________________\n",
      "elu_8 (ELU)                      (None, 50)            0           dense3[0][0]                     \n",
      "____________________________________________________________________________________________________\n",
      "dense4 (Dense)                   (None, 10)            510         elu_8[0][0]                      \n",
      "____________________________________________________________________________________________________\n",
      "elu_9 (ELU)                      (None, 10)            0           dense4[0][0]                     \n",
      "____________________________________________________________________________________________________\n",
      "dense5 (Dense)                   (None, 1)             11          elu_9[0][0]                      \n",
      "====================================================================================================\n",
      "Total params: 1,744,503\n",
      "Trainable params: 1,744,503\n",
      "Non-trainable params: 0\n",
      "____________________________________________________________________________________________________\n"
     ]
    }
   ],
   "source": [
    "model_test = nvidia_net()\n",
    "model_test.summary()"
   ]
  },
  {
   "cell_type": "code",
   "execution_count": 23,
   "metadata": {
    "collapsed": true
   },
   "outputs": [],
   "source": [
    "val_size = len(X_valid_data)\n",
    "batch_size = 512\n"
   ]
  },
  {
   "cell_type": "code",
   "execution_count": 24,
   "metadata": {
    "collapsed": true
   },
   "outputs": [],
   "source": [
    "def save_model(fileModelJSON, fileWeights):\n",
    "    prefix = \"model/\"\n",
    "    \n",
    "    filenameJSON = prefix + fileModelJSON\n",
    "    if Path(filenameJSON).is_file():\n",
    "        os.remove(filenameJSON)    \n",
    "    with open (filenameJSON, 'w') as outfile:\n",
    "        json.dump(model.to_json(), outfile)\n",
    "        \n",
    "    filenameWeights = prefix + fileWeights\n",
    "    if Path(filenameWeights).is_file():\n",
    "        os.remove(filenameWeights)\n",
    "    model.save_weights(filenameWeights, True)\n",
    "    "
   ]
  },
  {
   "cell_type": "code",
   "execution_count": 26,
   "metadata": {
    "collapsed": false
   },
   "outputs": [
    {
     "name": "stdout",
     "output_type": "stream",
     "text": [
      "Epoch 1/6\n"
     ]
    },
    {
     "name": "stderr",
     "output_type": "stream",
     "text": [
      "Exception in thread Thread-4:\n",
      "Traceback (most recent call last):\n",
      "  File \"/Users/hang/anaconda/lib/python3.5/threading.py\", line 914, in _bootstrap_inner\n",
      "    self.run()\n",
      "  File \"/Users/hang/anaconda/lib/python3.5/threading.py\", line 862, in run\n",
      "    self._target(*self._args, **self._kwargs)\n",
      "  File \"/Users/hang/anaconda/lib/python3.5/site-packages/keras/engine/training.py\", line 429, in data_generator_task\n",
      "    generator_output = next(self._generator)\n",
      "  File \"<ipython-input-16-cceec8d0f6ea>\", line 13, in generate_batch_train_from_dataframe\n",
      "    img1, angle1 = preprocess_image_train(data_row)\n",
      "  File \"<ipython-input-14-8d3230ab3986>\", line 7, in preprocess_image_train\n",
      "    image = cv2.cvtColor(image,cv2.COLOR_BGR2RGB)\n",
      "cv2.error: /Users/jenkins/miniconda/1/x64/conda-bld/work/opencv-3.1.0/modules/imgproc/src/color.cpp:7341: error: (-215) scn == 3 || scn == 4 in function ipp_cvtColor\n",
      "\n",
      "\n"
     ]
    },
    {
     "ename": "ValueError",
     "evalue": "output of generator should be a tuple (x, y, sample_weight) or (x, y). Found: None",
     "output_type": "error",
     "traceback": [
      "\u001b[0;31m---------------------------------------------------------------------------\u001b[0m",
      "\u001b[0;31mValueError\u001b[0m                                Traceback (most recent call last)",
      "\u001b[0;32m<ipython-input-26-5835ab83f489>\u001b[0m in \u001b[0;36m<module>\u001b[0;34m()\u001b[0m\n\u001b[1;32m      3\u001b[0m history = model.fit_generator(train_data_generator, samples_per_epoch=20480,\n\u001b[1;32m      4\u001b[0m                                  \u001b[0mnb_epoch\u001b[0m\u001b[0;34m=\u001b[0m\u001b[0;36m6\u001b[0m\u001b[0;34m,\u001b[0m \u001b[0mvalidation_data\u001b[0m\u001b[0;34m=\u001b[0m\u001b[0mvalid_data_generator\u001b[0m\u001b[0;34m,\u001b[0m\u001b[0;34m\u001b[0m\u001b[0m\n\u001b[0;32m----> 5\u001b[0;31m                                  nb_val_samples=val_size)\n\u001b[0m\u001b[1;32m      6\u001b[0m \u001b[0;34m\u001b[0m\u001b[0m\n\u001b[1;32m      7\u001b[0m \u001b[0mfileModelJSON\u001b[0m \u001b[0;34m=\u001b[0m \u001b[0;34m'model.json'\u001b[0m\u001b[0;34m\u001b[0m\u001b[0m\n",
      "\u001b[0;32m/Users/hang/anaconda/lib/python3.5/site-packages/keras/models.py\u001b[0m in \u001b[0;36mfit_generator\u001b[0;34m(self, generator, samples_per_epoch, nb_epoch, verbose, callbacks, validation_data, nb_val_samples, class_weight, max_q_size, nb_worker, pickle_safe, initial_epoch, **kwargs)\u001b[0m\n\u001b[1;32m    933\u001b[0m                                         \u001b[0mnb_worker\u001b[0m\u001b[0;34m=\u001b[0m\u001b[0mnb_worker\u001b[0m\u001b[0;34m,\u001b[0m\u001b[0;34m\u001b[0m\u001b[0m\n\u001b[1;32m    934\u001b[0m                                         \u001b[0mpickle_safe\u001b[0m\u001b[0;34m=\u001b[0m\u001b[0mpickle_safe\u001b[0m\u001b[0;34m,\u001b[0m\u001b[0;34m\u001b[0m\u001b[0m\n\u001b[0;32m--> 935\u001b[0;31m                                         initial_epoch=initial_epoch)\n\u001b[0m\u001b[1;32m    936\u001b[0m \u001b[0;34m\u001b[0m\u001b[0m\n\u001b[1;32m    937\u001b[0m     def evaluate_generator(self, generator, val_samples,\n",
      "\u001b[0;32m/Users/hang/anaconda/lib/python3.5/site-packages/keras/engine/training.py\u001b[0m in \u001b[0;36mfit_generator\u001b[0;34m(self, generator, samples_per_epoch, nb_epoch, verbose, callbacks, validation_data, nb_val_samples, class_weight, max_q_size, nb_worker, pickle_safe, initial_epoch)\u001b[0m\n\u001b[1;32m   1530\u001b[0m                                          \u001b[0;34m'(x, y, sample_weight) '\u001b[0m\u001b[0;34m\u001b[0m\u001b[0m\n\u001b[1;32m   1531\u001b[0m                                          \u001b[0;34m'or (x, y). Found: '\u001b[0m \u001b[0;34m+\u001b[0m\u001b[0;34m\u001b[0m\u001b[0m\n\u001b[0;32m-> 1532\u001b[0;31m                                          str(generator_output))\n\u001b[0m\u001b[1;32m   1533\u001b[0m                     \u001b[0;32mif\u001b[0m \u001b[0mlen\u001b[0m\u001b[0;34m(\u001b[0m\u001b[0mgenerator_output\u001b[0m\u001b[0;34m)\u001b[0m \u001b[0;34m==\u001b[0m \u001b[0;36m2\u001b[0m\u001b[0;34m:\u001b[0m\u001b[0;34m\u001b[0m\u001b[0m\n\u001b[1;32m   1534\u001b[0m                         \u001b[0mx\u001b[0m\u001b[0;34m,\u001b[0m \u001b[0my\u001b[0m \u001b[0;34m=\u001b[0m \u001b[0mgenerator_output\u001b[0m\u001b[0;34m\u001b[0m\u001b[0m\n",
      "\u001b[0;31mValueError\u001b[0m: output of generator should be a tuple (x, y, sample_weight) or (x, y). Found: None"
     ]
    }
   ],
   "source": [
    "train_data_generator = generate_batch_train_from_dataframe(X_train_data, batch_size)\n",
    "model = nvidia_net()\n",
    "history = model.fit_generator(train_data_generator, samples_per_epoch=20480,\n",
    "                                 nb_epoch=6, validation_data=valid_data_generator,\n",
    "                                 nb_val_samples=val_size)\n",
    "    \n",
    "fileModelJSON = 'model.json'\n",
    "fileWeights = 'model.h5'\n",
    "save_model(fileModelJSON, fileWeights)\n",
    "    \n",
    " "
   ]
  },
  {
   "cell_type": "code",
   "execution_count": 25,
   "metadata": {
    "collapsed": false
   },
   "outputs": [
    {
     "data": {
      "text/html": [
       "\n",
       "<video width=\"960\" height=\"540\" controls>\n",
       "  <source src=\"video.mp4\">\n",
       "</video>\n"
      ],
      "text/plain": [
       "<IPython.core.display.HTML object>"
      ]
     },
     "execution_count": 25,
     "metadata": {},
     "output_type": "execute_result"
    }
   ],
   "source": [
    "from IPython.display import HTML\n",
    "HTML(\"\"\"\n",
    "<video width=\"960\" height=\"540\" controls>\n",
    "  <source src=\"{0}\">\n",
    "</video>\n",
    "\"\"\".format('video.mp4'))"
   ]
  },
  {
   "cell_type": "code",
   "execution_count": null,
   "metadata": {
    "collapsed": true
   },
   "outputs": [],
   "source": []
  }
 ],
 "metadata": {
  "anaconda-cloud": {},
  "kernelspec": {
   "display_name": "Python [default]",
   "language": "python",
   "name": "python3"
  },
  "language_info": {
   "codemirror_mode": {
    "name": "ipython",
    "version": 3
   },
   "file_extension": ".py",
   "mimetype": "text/x-python",
   "name": "python",
   "nbconvert_exporter": "python",
   "pygments_lexer": "ipython3",
   "version": "3.5.2"
  }
 },
 "nbformat": 4,
 "nbformat_minor": 2
}
